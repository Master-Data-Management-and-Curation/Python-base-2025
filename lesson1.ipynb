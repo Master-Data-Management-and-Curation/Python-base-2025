{
 "cells": [
  {
   "cell_type": "markdown",
   "metadata": {},
   "source": [
    "# Session 1: File Handling & Dive into NumPy\n",
    "\n",
    "**Objective:** To refresh file I/O concepts and build a foundation in NumPy for advanced data manipulation."
   ]
  },
  {
   "cell_type": "markdown",
   "metadata": {},
   "source": [
    "## Part 0: Basic Concepts"
   ]
  },
  {
   "cell_type": "markdown",
   "metadata": {},
   "source": [
    "How to access to jupyterlab?\n",
    "\n"
   ]
  },
  {
   "cell_type": "markdown",
   "metadata": {},
   "source": [
    "### On your laptop\n",
    "\n",
    "Access the VM.\n",
    "\n",
    "```ssh vm``` \n",
    "\n",
    "Then **THE FIRST TIME ONLY** to install jupyterlab:\n",
    "\n",
    "1) install the virtual environment for python ```apt install python3.12-venv```\n",
    "2) change to user \"ubuntu\" with ```su ubuntu```\n",
    "3) move back to your home with ```cd```\n",
    "4) create a virtual environment ```python3 -m venv MDMC```\n",
    "5) ```source ./MDMC/bin/activate```\n",
    "6) ```pip install jupyterlab```\n",
    "\n",
    "**ALL OTHER TIMES**:\n",
    "\n",
    "1) change to user \"ubuntu\" with ```su ubuntu```\n",
    "2) move back to your home with ```cd```\n",
    "3) activate the environment ```source ./MDMC/bin/activate```\n",
    "4) start jupyter lab: ```jupyter lab --no-browser --ip \"*\"```\n",
    "5) Copy and paste the jupyter url in a browser on your *local* computer."
   ]
  },
  {
   "cell_type": "markdown",
   "metadata": {},
   "source": [
    "### 0. Python Fundamentals Warm-up\n",
    "\n",
    "Before diving into more advanced topics, let's quickly review the basic building blocks of Python code."
   ]
  },
  {
   "cell_type": "markdown",
   "metadata": {},
   "source": [
    "**Use the jupyter notebooks:** Blocks can be code or markdown, and you can run them either using the icons or by ```shift+enter``` combo."
   ]
  },
  {
   "cell_type": "markdown",
   "metadata": {},
   "source": [
    "**Defining a Function:** Functions are reusable blocks of code that perform a specific action. You define them using the `def` keyword."
   ]
  },
  {
   "cell_type": "code",
   "execution_count": null,
   "metadata": {},
   "outputs": [],
   "source": [
    "def greet(name, surname=\"Deer\", **kwargs):\n",
    "    \"\"\"This function greets the person passed in as a parameter.\"\"\"\n",
    "    if 'nickname' in kwargs.keys():\n",
    "        return f\"Hello, {name} {kwargs['nickname']} {surname}!\"\n",
    "    else:\n",
    "        return f\"Hello, {name} {surname}!\"\n"
   ]
  },
  {
   "cell_type": "code",
   "execution_count": null,
   "metadata": {},
   "outputs": [],
   "source": [
    "help(greet)"
   ]
  },
  {
   "cell_type": "code",
   "execution_count": null,
   "metadata": {},
   "outputs": [],
   "source": [
    "# Call the function\n",
    "message = greet(\"World\")\n",
    "print(message)\n",
    "\n",
    "# Call the function with optional inputs\n",
    "message = greet(\"John\", surname=\"Wick\", nickname=\"Jr.\")\n",
    "print(message)"
   ]
  },
  {
   "cell_type": "markdown",
   "metadata": {},
   "source": [
    "**Defining a Class:** Classes are blueprints for creating objects. They bundle data (attributes) and functions (methods) that work on that data."
   ]
  },
  {
   "cell_type": "code",
   "execution_count": null,
   "metadata": {},
   "outputs": [],
   "source": [
    "class Dog:\n",
    "    # The __init__ method is the constructor, run when an object is created\n",
    "    def __init__(self, name, age):\n",
    "        self.name = name  # Attribute\n",
    "        self.age = age    # Attribute\n",
    "\n",
    "    # A method\n",
    "    def bark(self):\n",
    "        return f\"{self.name} says woof!\"\n",
    "\n",
    "# Create an instance (object) of the Dog class\n",
    "my_dog = Dog(\"Rex\", 5)\n",
    "print(my_dog.name)\n",
    "print(my_dog.bark())"
   ]
  },
  {
   "cell_type": "markdown",
   "metadata": {},
   "source": [
    "**Importing a Module:** Modules are Python files with functions, classes, and variables that you can use in your own scripts. You use the `import` statement."
   ]
  },
  {
   "cell_type": "code",
   "execution_count": null,
   "metadata": {},
   "outputs": [],
   "source": [
    "! pip install numpy matplotlib"
   ]
  },
  {
   "cell_type": "code",
   "execution_count": null,
   "metadata": {},
   "outputs": [],
   "source": [
    "# Import the entire 'math' module\n",
    "import math\n",
    "print(math.sqrt(16)) # Use dot notation: module.function()\n",
    "\n",
    "# Import a specific function from a module\n",
    "from math import pi\n",
    "print(pi)\n",
    "\n",
    "# Import a module with an alias (a shorter name)\n",
    "import numpy as np\n",
    "\n",
    "# Modules also have methods\n",
    "numbers = [0.1, 0.3, 0.5, 0.7]\n",
    "numbers_np = np.array(numbers)\n",
    "print(f\"numbers is now a numpy array: {numbers_np}, its content sum up to {numbers_np.sum()}\" )"
   ]
  },
  {
   "cell_type": "markdown",
   "metadata": {},
   "source": [
    "### 1. File I/O Review\n",
    "\n",
    "We often need to read data from or write data to files. Python has robust built-in capabilities for this."
   ]
  },
  {
   "cell_type": "markdown",
   "metadata": {},
   "source": [
    "**Reading a `.txt` file:**"
   ]
  },
  {
   "cell_type": "code",
   "execution_count": null,
   "metadata": {},
   "outputs": [],
   "source": [
    "# First, let's create a file to read\n",
    "with open('example.txt', 'w') as f:\n",
    "    f.write(\"Hello from the file!\\nThis is the second line.\")\n",
    "\n",
    "# Read all the file in one string\n",
    "with open('example.txt', 'r') as f:\n",
    "    content = f.read()\n",
    "    print(content)\n",
    "    \n",
    "# Read all lines as a lis\n",
    "with open('example.txt', 'r') as f:\n",
    "    content = f.readlines()\n",
    "    print(content)"
   ]
  },
  {
   "cell_type": "markdown",
   "metadata": {},
   "source": [
    "**Reading a structured `.csv` file (using the `csv` module):**"
   ]
  },
  {
   "cell_type": "code",
   "execution_count": null,
   "metadata": {},
   "outputs": [],
   "source": [
    "import csv\n",
    "\n",
    "# Create a csv file to read\n",
    "with open('data.csv', 'w', newline='') as f:\n",
    "    writer = csv.writer(f)\n",
    "    writer.writerow(['name', 'age', 'city'])\n",
    "    writer.writerow(['Alice', 30, 'New York'])\n",
    "    writer.writerow(['Bob', 25, 'Los Angeles'])\n",
    "\n",
    "with open('data.csv', 'r') as f:\n",
    "    reader = csv.reader(f)\n",
    "    for row in reader:\n",
    "        print(row)"
   ]
  },
  {
   "cell_type": "markdown",
   "metadata": {},
   "source": [
    "**Reading a structured `.json` file:**"
   ]
  },
  {
   "cell_type": "code",
   "execution_count": null,
   "metadata": {},
   "outputs": [],
   "source": [
    "import json\n",
    "\n",
    "# Create a json file to read\n",
    "data_to_write = {'name': 'Charlie', 'skills': ['python', 'data analysis']}\n",
    "with open('data.json', 'w') as f:\n",
    "    json.dump(data_to_write, f)\n",
    "\n",
    "with open('data.json', 'r') as f:\n",
    "    data = json.load(f)\n",
    "    print(data)"
   ]
  },
  {
   "cell_type": "markdown",
   "metadata": {},
   "source": [
    "### Lab 1.1: Load JSON Data\n",
    "\n",
    "* **Task:** Create a file named `products.json` with data about products. Write a Python script to load this JSON file and print the name of the second product."
   ]
  },
  {
   "cell_type": "code",
   "execution_count": null,
   "metadata": {},
   "outputs": [],
   "source": [
    "import json\n",
    "\n",
    "products_data = [\n",
    "      {\"id\": \"p001\", \"name\": \"Laptop\", \"price\": 1200},\n",
    "      {\"id\": \"p002\", \"name\": \"Monitor\", \"price\": 350},\n",
    "      {\"id\": \"p003\", \"name\": \"Keyboard\", \"price\": 75}\n",
    "]\n",
    "\n",
    "with open('products.json', 'w') as f:\n",
    "    json.dump(products_data, f)\n",
    "\n",
    "with open('products.json', 'r') as f:\n",
    "    products = json.load(f)\n",
    "\n",
    "# The data is a list of dictionaries. Access the second element (index 1)\n",
    "# and then its 'name' key.\n",
    "print(products[1]['name'])"
   ]
  },
  {
   "cell_type": "markdown",
   "metadata": {},
   "source": [
    "## Part 1: ```numpy```\n",
    "\n",
    "#### NumPy `ndarray` Dive\n",
    "\n",
    "NumPy's core object is the `ndarray` (n-dimensional array). It's faster and more memory-efficient than Python lists for numerical operations."
   ]
  },
  {
   "cell_type": "code",
   "execution_count": null,
   "metadata": {},
   "outputs": [],
   "source": [
    "import numpy as np\n",
    "\n",
    "# Create a 1D array from a list\n",
    "list_a = [1, 2, 3, 4]\n",
    "array_a = np.array(list_a)\n",
    "print(f\"1D Array: {array_a}\")\n",
    "print(f\"Shape: {array_a.shape}\")\n",
    "print(f\"Data type: {array_a.dtype}\")\n",
    "\n",
    "# Create a 2D array (matrix)\n",
    "list_b = [[1, 2, 3], [4, 5, 6]]\n",
    "array_b = np.array(list_b)\n",
    "print(f\"\\n2D Array:\\n{array_b}\")\n",
    "print(f\"Shape: {array_b.shape}\")"
   ]
  },
  {
   "cell_type": "markdown",
   "metadata": {},
   "source": [
    "#### (but why ```numpy```?)"
   ]
  },
  {
   "cell_type": "code",
   "execution_count": null,
   "metadata": {},
   "outputs": [],
   "source": [
    "long_list = [ i*0.1 for i in range(10000)]\n",
    "\n",
    "def calculate_total_sum(long_list):\n",
    "    tot = 0.\n",
    "    for el in long_list:\n",
    "        tot += el\n",
    "    return tot\n",
    "\n",
    "%timeit calculate_total_sum(long_list)\n"
   ]
  },
  {
   "cell_type": "code",
   "execution_count": null,
   "metadata": {},
   "outputs": [],
   "source": [
    "long_list_numpy = np.array(long_list)\n",
    "%timeit long_list_numpy.sum()"
   ]
  },
  {
   "cell_type": "markdown",
   "metadata": {},
   "source": [
    "### 3. Advanced Indexing & Slicing\n",
    "\n",
    "NumPy offers powerful ways to select data."
   ]
  },
  {
   "cell_type": "markdown",
   "metadata": {},
   "source": [
    "**Boolean Masking:** Use a boolean condition to filter the array."
   ]
  },
  {
   "cell_type": "code",
   "execution_count": null,
   "metadata": {},
   "outputs": [],
   "source": [
    "arr = np.array([10, 20, 30, 40, 50])\n",
    "# Select elements greater than 25\n",
    "mask = arr > 25\n",
    "print(f\"Boolean Mask: {mask}\")\n",
    "print(f\"Filtered Array: {arr[mask]}\")"
   ]
  },
  {
   "cell_type": "markdown",
   "metadata": {},
   "source": [
    "**Fancy Indexing:** Use a list of indices to select specific elements."
   ]
  },
  {
   "cell_type": "code",
   "execution_count": null,
   "metadata": {},
   "outputs": [],
   "source": [
    "arr = np.array([10, 20, 30, 40, 50, 60])\n",
    "# Select the 1st, 3rd, and 4th elements\n",
    "indices = [0, 2, 3]\n",
    "print(f\"Fancy Indexing: {arr[indices]}\")"
   ]
  },
  {
   "cell_type": "markdown",
   "metadata": {},
   "source": [
    "### 4. Vectorization and Broadcasting"
   ]
  },
  {
   "cell_type": "markdown",
   "metadata": {},
   "source": [
    "**Vectorization:** Operations are applied to entire arrays at once, element-by-element. This is much faster than using a Python `for` loop."
   ]
  },
  {
   "cell_type": "code",
   "execution_count": null,
   "metadata": {},
   "outputs": [],
   "source": [
    "arr1 = np.array([1, 2, 3])\n",
    "arr2 = np.array([10, 20, 30])\n",
    "\n",
    "# Vectorized addition (no loop needed!)\n",
    "result = arr1 + arr2 \n",
    "print(f\"Vectorized Sum: {result}\")"
   ]
  },
  {
   "cell_type": "markdown",
   "metadata": {},
   "source": [
    "**Broadcasting:** NumPy's ability to perform operations on arrays of different (but compatible) shapes."
   ]
  },
  {
   "cell_type": "code",
   "execution_count": null,
   "metadata": {},
   "outputs": [],
   "source": [
    "arr = np.array([[1, 2, 3], [4, 5, 6]])\n",
    "scalar = 100\n",
    "\n",
    "# The scalar is \"broadcast\" to each element\n",
    "result = arr + scalar\n",
    "print(f\"Broadcasting result:\\n{result}\")"
   ]
  },
  {
   "cell_type": "markdown",
   "metadata": {},
   "source": [
    "\"When operating on two arrays, NumPy compares their shapes element-wise. It starts with the trailing (i.e. rightmost) dimension and works its way left. Two dimensions are compatible when\n",
    "\n",
    "- they are equal, or\n",
    "- one of them is 1.\n",
    "\n",
    "Input arrays do not need to have the same number of dimensions. The resulting array will have the same number of dimensions as the input array with the greatest number of dimensions, where the size of each dimension is the largest size of the corresponding dimension among the input arrays. Note that missing dimensions are assumed to have size one.\"\n",
    "\n",
    "\n",
    "\n",
    " "
   ]
  },
  {
   "cell_type": "code",
   "execution_count": null,
   "metadata": {},
   "outputs": [],
   "source": [
    "# working\n",
    "A = np.random.random(size = (8,1,6,1) )\n",
    "B = np.random.random(size = (7,1,5) )\n",
    "\n",
    "print(f\"the first result has shape: { (A * B).shape}\")\n",
    "\n",
    "# not working\n",
    "A = np.random.random(size = (8,6) )\n",
    "B = np.random.random(size = (7,5) )\n",
    "\n",
    "print(f\"the result has shape: { (A * B).shape}\")\n",
    "\n"
   ]
  },
  {
   "cell_type": "markdown",
   "metadata": {},
   "source": [
    "```\n",
    "A      (4d array):  8 x 1 x 6 x 1\n",
    "B      (3d array):      7 x 1 x 5\n",
    "Result (4d array):  8 x 7 x 6 x 5\n",
    "```"
   ]
  },
  {
   "attachments": {
    "af036d16-c7ba-4455-90be-a6173e2e0f09.png": {
     "image/png": "[encoded data removed]"
    }
   },
   "cell_type": "markdown",
   "metadata": {},
   "source": [
    "What happens in the additional dimensions? The values get repeated as necessary.\n",
    "\n",
    "![image.png](attachment:af036d16-c7ba-4455-90be-a6173e2e0f09.png)"
   ]
  },
  {
   "cell_type": "markdown",
   "metadata": {},
   "source": [
    "### 5. Mathematical and Statistical Functions\n",
    "\n",
    "NumPy has a huge library of optimized functions. (like here: https://numpy.org/doc/stable/reference/routines.html )"
   ]
  },
  {
   "cell_type": "code",
   "execution_count": null,
   "metadata": {},
   "outputs": [],
   "source": [
    "data = np.array([10, 15, 22, 31, 50])\n",
    "\n",
    "print(f\"Sum: {np.sum(data)}\")\n",
    "print(f\"Mean: {np.mean(data)}\")\n",
    "print(f\"Standard Deviation: {np.std(data)}\")\n",
    "print(f\"Max: {np.max(data)}\")"
   ]
  },
  {
   "cell_type": "markdown",
   "metadata": {},
   "source": [
    "Very helpful built-in functions."
   ]
  },
  {
   "cell_type": "code",
   "execution_count": null,
   "metadata": {},
   "outputs": [],
   "source": [
    "print(f\"Shape: {data.shape}\")\n",
    "\n",
    "dims = (10,2,1)\n",
    "\n",
    "init_to_zero = np.zeros(dims)\n",
    "\n",
    "print(\"\\n\", init_to_zero, f\"which has shape {init_to_zero.shape}\")"
   ]
  },
  {
   "cell_type": "markdown",
   "metadata": {},
   "source": [
    "A stand-alone method inside of numpy which is very relevant is ``` random```."
   ]
  },
  {
   "cell_type": "code",
   "execution_count": null,
   "metadata": {},
   "outputs": [],
   "source": [
    "from numpy import random\n",
    "\n",
    "print( f\"Randint: {random.randint(low=0, high=5, size=(10,)) }\")\n",
    "\n",
    "print( f\"Choice: {random.choice(['a', 'b', 'c'], size = 3)}\" )\n",
    "\n",
    "print( f\"Random uniform: {random.random(size=(10,3))}\")\n",
    "\n",
    "print( f\"Random normal distribution: {random.standard_normal(size=(2,3))}\")"
   ]
  },
  {
   "cell_type": "markdown",
   "metadata": {},
   "source": [
    "```numpy``` contains also all standard algebra operations, such as matrix multiplication, diagonalizations etc. etc."
   ]
  },
  {
   "cell_type": "code",
   "execution_count": null,
   "metadata": {},
   "outputs": [],
   "source": [
    "A = random.standard_normal( size = (4,8) )\n",
    "B = random.standard_normal( size = (8,3) )\n",
    "\n",
    "print(f\"A @ B: {np.matmul(A,B)}\") \n",
    "\n",
    "# shorthand\n",
    "print(f\"A @ B: {A @ B}\") \n",
    "\n",
    "print(f\"transpose(A): {np.transpose(A)}\")\n",
    "print(f\"transpose(A): {A.T}\")\n",
    "\n",
    "eigenvalues, eigenvectors = np.linalg.eig( A @ A.T )\n",
    "\n",
    "print(f\"eigenvals: {eigenvalues}\")\n",
    "print(f\"eigenvectors: {eigenvectors}\")"
   ]
  },
  {
   "cell_type": "markdown",
   "metadata": {},
   "source": [
    "Some other important functions"
   ]
  },
  {
   "cell_type": "code",
   "execution_count": null,
   "metadata": {},
   "outputs": [],
   "source": [
    "print(f\"Linear spacing, 10 points from 0 to 1 (included) {np.linspace(0,1,10)}\")\n",
    "print(f\"Logarithmic spacing, 10 points from 10^0=1 to 10^1=10 (included) {np.logspace(0,1,10)}\")"
   ]
  },
  {
   "cell_type": "markdown",
   "metadata": {},
   "source": [
    "## Exercises & Debugging"
   ]
  },
  {
   "cell_type": "markdown",
   "metadata": {},
   "source": [
    "### Lab 2.1: Advanced NumPy Selection\n",
    "\n",
    "* **Task:** Create a 2D NumPy array representing student grades. Use boolean masking to select all grades above 80. Then, use fancy indexing to select the grades of the 1st and 4th students (rows 0 and 3)."
   ]
  },
  {
   "cell_type": "code",
   "execution_count": null,
   "metadata": {},
   "outputs": [],
   "source": [
    "import numpy as np\n",
    "\n",
    "grades = np.array([\n",
    "    [85, 90, 78],\n",
    "    [72, 65, 80],\n",
    "    [95, 88, 92],\n",
    "    [68, 75, 70]\n",
    "])\n",
    "\n",
    "# Boolean masking\n",
    "high_grades = grades[grades > 80]\n",
    "print(f\"Grades above 80: {high_grades}\")\n",
    "\n",
    "# Fancy indexing\n",
    "selected_students = grades[[0, 3]]\n",
    "print(f\"\\nGrades for students 1 and 4:\\n{selected_students}\")"
   ]
  },
  {
   "cell_type": "markdown",
   "metadata": {},
   "source": [
    "### Lab 2.2: (Advanced) Manual PCA with NumPy\n",
    "* **Task:** Principal Component Analysis (PCA) is a technique to reduce the dimensionality of data. This exercise will guide you through the manual steps using NumPy's linear algebra capabilities.\n",
    "* **Objective:** Understand how standardization, covariance, and eigenvectors work together."
   ]
  },
  {
   "cell_type": "code",
   "execution_count": null,
   "metadata": {},
   "outputs": [],
   "source": [
    "# Function to generate a Gaussian Cloud of points which lives in 3D inside a 10D word.\n",
    "# Do now worry about what this function does... only that it produces a nice cloud of points!\n",
    "\n",
    "def generate_rotated_gaussian_cloud(\n",
    "    n_points=200,\n",
    "    intrinsic_stds=[0.7, 0.25, 0.15],\n",
    "    embedding_dim=10,\n",
    "    noise_level=0.01\n",
    "):\n",
    "    \"\"\"\n",
    "    Generates a Gaussian point cloud with a low intrinsic dimensionality\n",
    "    randomly rotated within a higher-dimensional embedding space.\n",
    "\n",
    "    Args:\n",
    "        n_points (int): The number of points to generate.\n",
    "        intrinsic_stds (list or np.array): A list of standard deviations (\"sizes\")\n",
    "                                            for the core intrinsic dimensions.\n",
    "        embedding_dim (int): The final dimensionality of the embedding space.\n",
    "        noise_level (float): The standard deviation of the small isotropic noise\n",
    "                             added to all dimensions.\n",
    "\n",
    "    Returns:\n",
    "        np.ndarray: An array of shape (n_points, embedding_dim) containing the data.\n",
    "    \"\"\"\n",
    "    intrinsic_dim = len(intrinsic_stds)\n",
    "\n",
    "    # 1. Generate the core data in its native low-dimensional space\n",
    "    # Shape: (n_points, intrinsic_dim) -> (1000, 3)\n",
    "    points_3d = np.random.randn(n_points, intrinsic_dim) * intrinsic_stds\n",
    "\n",
    "    # 2. Create a random rotation matrix to embed the 3D space into 10D\n",
    "    # We generate a random 10x10 matrix and use QR decomposition to get\n",
    "    # a random orthogonal matrix (a rotation).\n",
    "    # See: https://en.wikipedia.org/wiki/Orthogonal_matrix#Randomization\n",
    "    random_matrix = np.random.randn(embedding_dim, embedding_dim)\n",
    "    q, _ = np.linalg.qr(random_matrix)\n",
    "\n",
    "    # The first 3 columns of Q form an orthonormal basis for a random 3D subspace\n",
    "    rotation_matrix = q[:, :intrinsic_dim] # Shape: (10, 3)\n",
    "\n",
    "    # 3. Project the 3D points into the 10D space\n",
    "    # (1000, 3) @ (3, 10) -> (1000, 10)\n",
    "    points_10d = points_3d @ rotation_matrix.T\n",
    "\n",
    "    # 4. Add a small amount of isotropic noise to all 10 dimensions\n",
    "    noise = np.random.randn(n_points, embedding_dim) * noise_level\n",
    "    final_points = points_10d + noise\n",
    "\n",
    "    return final_points\n"
   ]
  },
  {
   "cell_type": "code",
   "execution_count": null,
   "metadata": {},
   "outputs": [],
   "source": [
    "# 0. Our original data \n",
    "data = generate_rotated_gaussian_cloud(\n",
    "    n_points=1000,\n",
    "    intrinsic_stds=[0.6, 0.25, 0.15],\n",
    "    embedding_dim=10,\n",
    "    noise_level=0.01\n",
    ")\n",
    "\n",
    "print(\"\\nData has shape:\", data.shape)\n",
    "\n",
    "# Step 1: Standardize the data (center it around the mean)\n",
    "# For each column, subtract its mean\n",
    "\n",
    "# ADD CODE HERE!\n",
    "print(\"\\nStandardized Data of shape:\\n\", standardized_datas.shape)\n",
    "\n",
    "# Step 2: Calculate the covariance matrix\n",
    "# This shows how the variables (columns) vary from the mean with respect to each other.\n",
    "\n",
    "\n",
    "# USE THE NUMPY EXISTING METHOD! BE CAREFUL HOW IT WORKS!\n",
    "# ADD CODE HERE!\n",
    "print(\"\\nCovariance Matrix of shape:\\n\", cov_matrix.shape)\n",
    "\n",
    "# Step 3: Compute eigenvectors and eigenvalues\n",
    "# Eigenvectors are the directions of maximum variance (the principal components).\n",
    "# Eigenvalues represent the magnitude of the variance in those directions.\n",
    "\n",
    "# USE THE NUMPY METHOD TO COMPUTE THEM!\n",
    "# ADD CODE HERE!\n",
    "print(\"\\nEigenvalues shape:\\n\", eigenvalues.shape)\n",
    "print(\"\\nEigenvectors (Principal Components):\\n\", eigenvectors.shape)\n",
    "\n",
    "# Step 4: Project the data onto the principal components\n",
    "# This transforms the data into a new coordinate system defined by the eigenvectors.\n",
    "\n",
    "# You need to make the matrix multiplication data x eigenvectors\n",
    "print(\"\\nData projected onto Principal Components:\\n\", projected_data.shape)\n",
    "\n",
    "# Step 5: Calculate the \"explained variance\" of the data\n",
    "# This allows you to understand how well the PCA explains the data\n",
    "\n",
    "# The explained_variance is the square root of the eigenvalues, normalized it to one.\n",
    "# ADD CODE HERE!\n",
    "\n",
    "\n"
   ]
  },
  {
   "cell_type": "code",
   "execution_count": null,
   "metadata": {},
   "outputs": [],
   "source": [
    "import matplotlib.pyplot as plt\n",
    "plt.plot(np.arange(10), explained_variance, '-o')\n",
    "plt.show()"
   ]
  },
  {
   "cell_type": "code",
   "execution_count": null,
   "metadata": {},
   "outputs": [],
   "source": [
    "plt.plot(np.sqrt(eigenvalues)/np.sqrt(eigenvalues).sum())\n",
    "plt.show()\n"
   ]
  }
 ],
 "metadata": {
  "kernelspec": {
   "display_name": "Python 3 (ipykernel)",
   "language": "python",
   "name": "python3"
  },
  "language_info": {
   "codemirror_mode": {
    "name": "ipython",
    "version": 3
   },
   "file_extension": ".py",
   "mimetype": "text/x-python",
   "name": "python",
   "nbconvert_exporter": "python",
   "pygments_lexer": "ipython3",
   "version": "3.12.3"
  }
 },
 "nbformat": 4,
 "nbformat_minor": 4
}
